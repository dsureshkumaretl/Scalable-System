{
 "cells": [
  {
   "cell_type": "markdown",
   "metadata": {},
   "source": [
    "# Locality Sensitive Hashing\n",
    "\n",
    "1. Introduce a shingle function. Clean and split each text file into a set of K-shingles\n",
    "2. Compute the exact Jaccard similarity (intersection over union) between all pairs\n",
    "3. Create and apply a MinHashing class:\n",
    "    1. Initialize with a dictionary of key-value pairs for the shingles\n",
    "    2. Apply \"universal hashing\" to perform minhashing on a shingle set\n",
    "    3. can be called like a function to compute a **signature matrix**\n",
    "4. Evaluate MinHashing effectiveness by computing scores of all pairs\n",
    "5. Introduce LSH for finding **candidate pairs**, i.e. use a banded signature matrix to find all pairs whose similarity is likely above a threshold\n",
    "6. Make this efficient, by using hash table for band, column ids, allowing O(n) comparison"
   ]
  },
  {
   "cell_type": "code",
   "execution_count": 1,
   "metadata": {},
   "outputs": [],
   "source": [
    "import os\n",
    "import time\n",
    "import itertools\n",
    "import collections\n",
    "import numpy as np\n",
    "import matplotlib.pyplot as plt"
   ]
  },
  {
   "cell_type": "markdown",
   "metadata": {},
   "source": [
    "# Part I: document similarity"
   ]
  },
  {
   "cell_type": "markdown",
   "metadata": {},
   "source": [
    "## MinHashing without Locality Sensitive Hashing"
   ]
  },
  {
   "cell_type": "markdown",
   "metadata": {},
   "source": [
    "### Shingling\n",
    "\n",
    "Have considered 5 different files containing the books of Rudyard Kipling and estimated the similarity"
   ]
  },
  {
   "cell_type": "code",
   "execution_count": 2,
   "metadata": {},
   "outputs": [
    {
     "name": "stdout",
     "output_type": "stream",
     "text": [
      "Average char-length: 225076.13333333333\n",
      "Min char-length: 65332\n",
      "Max char-length: 437512\n"
     ]
    }
   ],
   "source": [
    "import os\n",
    "HOME = os.getcwd()\n",
    "TARGET = os.path.join(HOME, 'sampledocs/')\n",
    "\n",
    "documents = []\n",
    "for article in os.listdir(TARGET):\n",
    "    if article == 'stopwords':\n",
    "        continue\n",
    "    path = os.path.join(TARGET, article)\n",
    "    with open(path, 'r',encoding='utf-8') as file:\n",
    "        documents.append(file.read())\n",
    "        \n",
    "stopwords = []\n",
    "with open(os.path.join(TARGET, 'stopwords'), 'r') as file:\n",
    "    for line in file:\n",
    "        stopwords.append(line.strip())\n",
    "        \n",
    "for i, doc in enumerate(documents):\n",
    "    doc = doc.strip().replace('\\n', ' ').lower()\n",
    "    for word in stopwords:\n",
    "        doc = doc.replace(' '+word+' ', ' ')\n",
    "    documents[i] = doc\n",
    "\n",
    "print(f\"Average char-length: \\\n",
    "{np.mean(np.array([len(x) for x in documents]))}\")\n",
    "print(f\"Min char-length: {min(len(x) for x in documents)}\")\n",
    "print(f\"Max char-length: {max(len(x) for x in documents)}\")"
   ]
  },
  {
   "cell_type": "code",
   "execution_count": 3,
   "metadata": {},
   "outputs": [
    {
     "name": "stdout",
     "output_type": "stream",
     "text": [
      "Found 99779 unique shingles, out of 437512 possible.\n",
      "Found 28731 unique shingles, out of 87319 possible.\n",
      "Found 66861 unique shingles, out of 229968 possible.\n",
      "Found 42497 unique shingles, out of 142207 possible.\n",
      "Found 93762 unique shingles, out of 414926 possible.\n",
      "Found 61840 unique shingles, out of 204105 possible.\n",
      "Found 71878 unique shingles, out of 282755 possible.\n",
      "Found 62280 unique shingles, out of 233690 possible.\n",
      "Found 74563 unique shingles, out of 295260 possible.\n",
      "Found 53257 unique shingles, out of 195577 possible.\n",
      "Found 69370 unique shingles, out of 284252 possible.\n",
      "Found 28012 unique shingles, out of 65332 possible.\n",
      "Found 57012 unique shingles, out of 180565 possible.\n",
      "Found 61854 unique shingles, out of 247029 possible.\n",
      "Found 35468 unique shingles, out of 75645 possible.\n"
     ]
    }
   ],
   "source": [
    "# create K-shingles by sliding window approach\n",
    "def getShingles(str1, K=3):\n",
    "    d1 = set()\n",
    "    for i in range(len(str1)-K):\n",
    "        d1.add(str1[i:i+K])\n",
    "    print(f\"Found {len(d1)} unique shingles, out of {len(str1)} possible.\")\n",
    "    return d1\n",
    "doc_shingles = [getShingles(s, 5) for s in documents]"
   ]
  },
  {
   "cell_type": "markdown",
   "metadata": {},
   "source": [
    "### Define the Jaccard similarity (intersection over union)"
   ]
  },
  {
   "cell_type": "code",
   "execution_count": 4,
   "metadata": {},
   "outputs": [
    {
     "name": "stdout",
     "output_type": "stream",
     "text": [
      "**~~~~~~ True similarity scores ~~~~~~**\n",
      "Pair\tScore\n",
      "--------------\n",
      "(0, 1)\t0.185\n",
      "(0, 2)\t0.333\n",
      "(0, 3)\t0.255\n",
      "(0, 4)\t0.326\n",
      "(0, 5)\t0.330\n",
      "(0, 6)\t0.346\n",
      "(0, 7)\t0.337\n",
      "(0, 8)\t0.318\n",
      "(0, 9)\t0.281\n",
      "(0, 10)\t0.325\n",
      "(0, 11)\t0.190\n",
      "(0, 12)\t0.308\n",
      "(0, 13)\t0.309\n",
      "(0, 14)\t0.216\n",
      "(1, 2)\t0.221\n",
      "(1, 3)\t0.239\n",
      "(1, 4)\t0.163\n",
      "(1, 5)\t0.232\n",
      "(1, 6)\t0.212\n",
      "(1, 7)\t0.236\n",
      "(1, 8)\t0.201\n",
      "(1, 9)\t0.226\n",
      "(1, 10)\t0.201\n",
      "(1, 11)\t0.251\n",
      "(1, 12)\t0.222\n",
      "(1, 13)\t0.217\n",
      "(1, 14)\t0.230\n",
      "(2, 3)\t0.275\n",
      "(2, 4)\t0.294\n",
      "(2, 5)\t0.368\n",
      "(2, 6)\t0.330\n",
      "(2, 7)\t0.339\n",
      "(2, 8)\t0.314\n",
      "(2, 9)\t0.305\n",
      "(2, 10)\t0.318\n",
      "(2, 11)\t0.230\n",
      "(2, 12)\t0.317\n",
      "(2, 13)\t0.323\n",
      "(2, 14)\t0.254\n",
      "(3, 4)\t0.230\n",
      "(3, 5)\t0.302\n",
      "(3, 6)\t0.271\n",
      "(3, 7)\t0.301\n",
      "(3, 8)\t0.263\n",
      "(3, 9)\t0.292\n",
      "(3, 10)\t0.265\n",
      "(3, 11)\t0.259\n",
      "(3, 12)\t0.279\n",
      "(3, 13)\t0.291\n",
      "(3, 14)\t0.246\n",
      "(4, 5)\t0.310\n",
      "(4, 6)\t0.348\n",
      "(4, 7)\t0.292\n",
      "(4, 8)\t0.331\n",
      "(4, 9)\t0.322\n",
      "(4, 10)\t0.366\n",
      "(4, 11)\t0.217\n",
      "(4, 12)\t0.331\n",
      "(4, 13)\t0.349\n",
      "(4, 14)\t0.200\n",
      "(5, 6)\t0.352\n",
      "(5, 7)\t0.349\n",
      "(5, 8)\t0.322\n",
      "(5, 9)\t0.326\n",
      "(5, 10)\t0.334\n",
      "(5, 11)\t0.248\n",
      "(5, 12)\t0.338\n",
      "(5, 13)\t0.346\n",
      "(5, 14)\t0.269\n",
      "(6, 7)\t0.327\n",
      "(6, 8)\t0.341\n",
      "(6, 9)\t0.336\n",
      "(6, 10)\t0.364\n",
      "(6, 11)\t0.244\n",
      "(6, 12)\t0.368\n",
      "(6, 13)\t0.358\n",
      "(6, 14)\t0.243\n",
      "(7, 8)\t0.339\n",
      "(7, 9)\t0.320\n",
      "(7, 10)\t0.310\n",
      "(7, 11)\t0.239\n",
      "(7, 12)\t0.314\n",
      "(7, 13)\t0.339\n",
      "(7, 14)\t0.246\n",
      "(8, 9)\t0.340\n",
      "(8, 10)\t0.353\n",
      "(8, 11)\t0.241\n",
      "(8, 12)\t0.348\n",
      "(8, 13)\t0.361\n",
      "(8, 14)\t0.220\n",
      "(9, 10)\t0.353\n",
      "(9, 11)\t0.282\n",
      "(9, 12)\t0.349\n",
      "(9, 13)\t0.408\n",
      "(9, 14)\t0.237\n",
      "(10, 11)\t0.262\n",
      "(10, 12)\t0.367\n",
      "(10, 13)\t0.357\n",
      "(10, 14)\t0.234\n",
      "(11, 12)\t0.446\n",
      "(11, 13)\t0.262\n",
      "(11, 14)\t0.249\n",
      "(12, 13)\t0.362\n",
      "(12, 14)\t0.255\n",
      "(13, 14)\t0.243\n"
     ]
    }
   ],
   "source": [
    "def jaccardSim(d1,d2):\n",
    "    return len(d1.intersection(d2))/len(d1.union(d2))\n",
    "\n",
    "# itertools.combinations finds all (,n) n-pairs\n",
    "# then we use a map op on the tuples with jaccardSim\n",
    "pairs = itertools.combinations(documents, 2)\n",
    "pair_labels = []\n",
    "pair_sims = []\n",
    "for x1, x2 in itertools.combinations(zip(range(len(doc_shingles)),doc_shingles), 2):\n",
    "    pair_labels.append((x1[0],x2[0]))\n",
    "    pair_sims.append(jaccardSim(x1[1],x2[1]))\n",
    "    \n",
    "print(f\"**~~~~~~ True similarity scores ~~~~~~**\")\n",
    "print(\"Pair\\tScore\")\n",
    "print(\"-\"*14)\n",
    "for pair, score in zip(pair_labels, pair_sims):\n",
    "    print(f\"{pair}\\t{score:.3f}\")"
   ]
  },
  {
   "cell_type": "code",
   "execution_count": 5,
   "metadata": {},
   "outputs": [
    {
     "name": "stdout",
     "output_type": "stream",
     "text": [
      "There are 270150 shingles\n"
     ]
    }
   ],
   "source": [
    "# Take union of all sets. Convert to an array and assign\n",
    "# each element an integer based on position in array\n",
    "fullset = set.union(*doc_shingles)\n",
    "shingle_dict = dict(zip(list(fullset),range(len(fullset))))\n",
    "print(f\"There are {len(shingle_dict)} shingles\")"
   ]
  },
  {
   "cell_type": "code",
   "execution_count": 6,
   "metadata": {},
   "outputs": [],
   "source": [
    "# shingle_dict"
   ]
  },
  {
   "cell_type": "markdown",
   "metadata": {},
   "source": [
    "### 3. Define the MinHash class, capable of creating a signature matrix\n",
    "\n",
    "Note: this only takes sets as input (not matrices) allowing us to efficiently deal with sparse matrices"
   ]
  },
  {
   "cell_type": "code",
   "execution_count": 7,
   "metadata": {},
   "outputs": [
    {
     "name": "stdout",
     "output_type": "stream",
     "text": [
      "Initialization test: passed\n",
      "Set parameters to right size: passed\n",
      "Permuting a row integer returns array: passed\n",
      "Compute minhashed signature matrix: passed\n"
     ]
    }
   ],
   "source": [
    "# Create a hash function\n",
    "# define as a callable class, so that we only\n",
    "# intialize random functions once\n",
    "class HashManager():\n",
    "    def __init__(self, shingle_dict):\n",
    "        self.shingle_dict = shingle_dict\n",
    "        self.N = len(shingle_dict)\n",
    "        self.params = None\n",
    "        \n",
    "    def _initParams(self, n_sig):\n",
    "        self.params = np.random.randint(self.N, size=[n_sig,2])\n",
    "    \n",
    "    def _permuteRow(self, row):\n",
    "        return (self.params@np.array([1,row]))%self.N\n",
    "    \n",
    "    def __call__(self, docs, n_sig, init=True):\n",
    "        # Initialize if we change signature matrix length\n",
    "        # or if we request to re-initialize\n",
    "        if self.params is None or len(self.params) != n_sig or init:\n",
    "            self._initParams(n_sig)\n",
    "            \n",
    "        #initialize signature matrix\n",
    "        sig = np.full((n_sig, len(docs)), np.inf)\n",
    "        \n",
    "        # each doc in docs is assumed to be an iterable object\n",
    "        for j, doc in enumerate(docs):\n",
    "            for shingle in doc:\n",
    "                orig_row = shingle_dict[shingle]\n",
    "                curr_col = self._permuteRow(orig_row)\n",
    "                sig[:,j] = np.minimum(sig[:,j],curr_col)\n",
    "        return sig.astype(int)\n",
    "    \n",
    "# run some tests:\n",
    "try:\n",
    "    print(\"Initialization test: \", end=\"\")\n",
    "    hm = HashManager(shingle_dict)\n",
    "    print(\"passed\")\n",
    "\n",
    "    print(\"Set parameters to right size: \", end=\"\")\n",
    "    hm._initParams(n_sig=4)\n",
    "    assert(hm.params.shape == (4,2))\n",
    "    print(\"passed\")\n",
    "\n",
    "    print(\"Permuting a row integer returns array: \", end=\"\")\n",
    "    curr_col = hm._permuteRow(3)\n",
    "    assert(curr_col.shape == (4,))\n",
    "    print(\"passed\")\n",
    "\n",
    "    print(\"Compute minhashed signature matrix: \", end=\"\")\n",
    "    hm(doc_shingles, 4)\n",
    "    print(\"passed\")\n",
    "except Exception as e:\n",
    "    print(\"failure\")\n",
    "    print(e.args)"
   ]
  },
  {
   "cell_type": "code",
   "execution_count": 8,
   "metadata": {},
   "outputs": [],
   "source": [
    "hm = HashManager(shingle_dict)"
   ]
  },
  {
   "cell_type": "markdown",
   "metadata": {},
   "source": [
    "### 4. Use MinHashing to compute similarity scores, and see how well it does"
   ]
  },
  {
   "cell_type": "code",
   "execution_count": 9,
   "metadata": {},
   "outputs": [
    {
     "name": "stdout",
     "output_type": "stream",
     "text": [
      "**~~~~~~ Similarity score comparison ~~~~~~**\n",
      "Pair\t\tApprox\t\tTrue\t\t%Error\n",
      "(0, 1)\t\t0.200\t\t0.185\t\t8.08\n",
      "(0, 2)\t\t0.400\t\t0.333\t\t20.00\n",
      "(0, 3)\t\t0.400\t\t0.255\t\t57.14\n",
      "(0, 4)\t\t0.500\t\t0.326\t\t53.32\n",
      "(0, 5)\t\t0.400\t\t0.330\t\t21.26\n",
      "(0, 6)\t\t0.200\t\t0.346\t\t42.15\n",
      "(0, 7)\t\t0.100\t\t0.337\t\t70.36\n",
      "(0, 8)\t\t0.400\t\t0.318\t\t25.64\n",
      "(0, 9)\t\t0.300\t\t0.281\t\t6.88\n",
      "(0, 10)\t\t0.400\t\t0.325\t\t23.24\n",
      "(0, 11)\t\t0.100\t\t0.190\t\t47.24\n",
      "(0, 12)\t\t0.500\t\t0.308\t\t62.53\n",
      "(0, 13)\t\t0.400\t\t0.309\t\t29.32\n",
      "(0, 14)\t\t0.200\t\t0.216\t\t7.38\n",
      "(1, 2)\t\t0.100\t\t0.221\t\t54.73\n",
      "(1, 3)\t\t0.000\t\t0.239\t\t100.00\n",
      "(1, 4)\t\t0.100\t\t0.163\t\t38.83\n",
      "(1, 5)\t\t0.000\t\t0.232\t\t100.00\n",
      "(1, 6)\t\t0.100\t\t0.212\t\t52.92\n",
      "(1, 7)\t\t0.300\t\t0.236\t\t26.86\n",
      "(1, 8)\t\t0.200\t\t0.201\t\t0.28\n",
      "(1, 9)\t\t0.000\t\t0.226\t\t100.00\n",
      "(1, 10)\t\t0.000\t\t0.201\t\t100.00\n",
      "(1, 11)\t\t0.100\t\t0.251\t\t60.10\n",
      "(1, 12)\t\t0.000\t\t0.222\t\t100.00\n",
      "(1, 13)\t\t0.100\t\t0.217\t\t53.93\n",
      "(1, 14)\t\t0.200\t\t0.230\t\t12.96\n",
      "(2, 3)\t\t0.500\t\t0.275\t\t81.60\n",
      "(2, 4)\t\t0.200\t\t0.294\t\t31.95\n",
      "(2, 5)\t\t0.400\t\t0.368\t\t8.67\n",
      "(2, 6)\t\t0.300\t\t0.330\t\t9.21\n",
      "(2, 7)\t\t0.400\t\t0.339\t\t17.87\n",
      "(2, 8)\t\t0.300\t\t0.314\t\t4.58\n",
      "(2, 9)\t\t0.300\t\t0.305\t\t1.59\n",
      "(2, 10)\t\t0.300\t\t0.318\t\t5.70\n",
      "(2, 11)\t\t0.200\t\t0.230\t\t13.17\n",
      "(2, 12)\t\t0.600\t\t0.317\t\t89.22\n",
      "(2, 13)\t\t0.100\t\t0.323\t\t69.00\n",
      "(2, 14)\t\t0.000\t\t0.254\t\t100.00\n",
      "(3, 4)\t\t0.200\t\t0.230\t\t13.22\n",
      "(3, 5)\t\t0.400\t\t0.302\t\t32.64\n",
      "(3, 6)\t\t0.200\t\t0.271\t\t26.19\n",
      "(3, 7)\t\t0.300\t\t0.301\t\t0.43\n",
      "(3, 8)\t\t0.400\t\t0.263\t\t52.07\n",
      "(3, 9)\t\t0.500\t\t0.292\t\t71.30\n",
      "(3, 10)\t\t0.400\t\t0.265\t\t50.95\n",
      "(3, 11)\t\t0.200\t\t0.259\t\t22.75\n",
      "(3, 12)\t\t0.500\t\t0.279\t\t78.96\n",
      "(3, 13)\t\t0.400\t\t0.291\t\t37.40\n",
      "(3, 14)\t\t0.000\t\t0.246\t\t100.00\n",
      "(4, 5)\t\t0.300\t\t0.310\t\t3.17\n",
      "(4, 6)\t\t0.600\t\t0.348\t\t72.66\n",
      "(4, 7)\t\t0.300\t\t0.292\t\t2.82\n",
      "(4, 8)\t\t0.300\t\t0.331\t\t9.49\n",
      "(4, 9)\t\t0.500\t\t0.322\t\t55.37\n",
      "(4, 10)\t\t0.600\t\t0.366\t\t63.88\n",
      "(4, 11)\t\t0.300\t\t0.217\t\t37.96\n",
      "(4, 12)\t\t0.500\t\t0.331\t\t50.87\n",
      "(4, 13)\t\t0.500\t\t0.349\t\t43.31\n",
      "(4, 14)\t\t0.100\t\t0.200\t\t49.90\n",
      "(5, 6)\t\t0.500\t\t0.352\t\t42.05\n",
      "(5, 7)\t\t0.200\t\t0.349\t\t42.64\n",
      "(5, 8)\t\t0.400\t\t0.322\t\t24.33\n",
      "(5, 9)\t\t0.500\t\t0.326\t\t53.51\n",
      "(5, 10)\t\t0.300\t\t0.334\t\t10.21\n",
      "(5, 11)\t\t0.100\t\t0.248\t\t59.63\n",
      "(5, 12)\t\t0.500\t\t0.338\t\t47.95\n",
      "(5, 13)\t\t0.300\t\t0.346\t\t13.25\n",
      "(5, 14)\t\t0.300\t\t0.269\t\t11.66\n",
      "(6, 7)\t\t0.500\t\t0.327\t\t52.91\n",
      "(6, 8)\t\t0.300\t\t0.341\t\t12.10\n",
      "(6, 9)\t\t0.400\t\t0.336\t\t18.90\n",
      "(6, 10)\t\t0.600\t\t0.364\t\t64.64\n",
      "(6, 11)\t\t0.200\t\t0.244\t\t17.88\n",
      "(6, 12)\t\t0.500\t\t0.368\t\t35.90\n",
      "(6, 13)\t\t0.300\t\t0.358\t\t16.23\n",
      "(6, 14)\t\t0.100\t\t0.243\t\t58.89\n",
      "(7, 8)\t\t0.300\t\t0.339\t\t11.51\n",
      "(7, 9)\t\t0.300\t\t0.320\t\t6.28\n",
      "(7, 10)\t\t0.300\t\t0.310\t\t3.36\n",
      "(7, 11)\t\t0.300\t\t0.239\t\t25.75\n",
      "(7, 12)\t\t0.300\t\t0.314\t\t4.39\n",
      "(7, 13)\t\t0.200\t\t0.339\t\t41.04\n",
      "(7, 14)\t\t0.000\t\t0.246\t\t100.00\n",
      "(8, 9)\t\t0.400\t\t0.340\t\t17.58\n",
      "(8, 10)\t\t0.400\t\t0.353\t\t13.39\n",
      "(8, 11)\t\t0.000\t\t0.241\t\t100.00\n",
      "(8, 12)\t\t0.400\t\t0.348\t\t14.99\n",
      "(8, 13)\t\t0.500\t\t0.361\t\t38.68\n",
      "(8, 14)\t\t0.100\t\t0.220\t\t54.64\n",
      "(9, 10)\t\t0.700\t\t0.353\t\t98.05\n",
      "(9, 11)\t\t0.100\t\t0.282\t\t64.57\n",
      "(9, 12)\t\t0.400\t\t0.349\t\t14.64\n",
      "(9, 13)\t\t0.600\t\t0.408\t\t47.18\n",
      "(9, 14)\t\t0.000\t\t0.237\t\t100.00\n",
      "(10, 11)\t\t0.100\t\t0.262\t\t61.76\n",
      "(10, 12)\t\t0.600\t\t0.367\t\t63.45\n",
      "(10, 13)\t\t0.500\t\t0.357\t\t39.92\n",
      "(10, 14)\t\t0.000\t\t0.234\t\t100.00\n",
      "(11, 12)\t\t0.400\t\t0.446\t\t10.25\n",
      "(11, 13)\t\t0.100\t\t0.262\t\t61.79\n",
      "(11, 14)\t\t0.100\t\t0.249\t\t59.83\n",
      "(12, 13)\t\t0.300\t\t0.362\t\t17.12\n",
      "(12, 14)\t\t0.000\t\t0.255\t\t100.00\n",
      "(13, 14)\t\t0.200\t\t0.243\t\t17.61\n",
      "True pairs: {(6, 12), (4, 9), (3, 7), (4, 6), (4, 12), (3, 10), (5, 7), (5, 13), (12, 13), (3, 13), (0, 2), (5, 10), (8, 9), (0, 5), (8, 12), (9, 11), (0, 8), (2, 5), (10, 12), (2, 8), (2, 14), (7, 10), (6, 8), (7, 13), (4, 5), (3, 9), (5, 6), (4, 8), (3, 6), (3, 12), (5, 9), (5, 12), (9, 10), (0, 7), (2, 4), (10, 11), (0, 4), (0, 10), (2, 7), (9, 13), (1, 11), (0, 13), (2, 10), (11, 13), (2, 13), (7, 9), (6, 7), (6, 13), (7, 12), (6, 10), (4, 7), (3, 5), (3, 11), (12, 14), (4, 10), (3, 8), (4, 13), (5, 8), (5, 14), (0, 3), (0, 9), (8, 10), (9, 12), (0, 6), (0, 12), (2, 3), (2, 9), (8, 13), (2, 6), (2, 12), (10, 13), (11, 12), (6, 9), (7, 8)}\n",
      "Candidate pairs: {(6, 12), (4, 9), (3, 7), (4, 6), (4, 12), (3, 10), (12, 13), (5, 13), (3, 13), (0, 2), (5, 10), (8, 9), (0, 5), (8, 12), (0, 8), (2, 5), (10, 12), (2, 8), (7, 10), (6, 8), (4, 5), (3, 9), (5, 6), (4, 8), (3, 12), (5, 9), (4, 11), (5, 12), (9, 10), (0, 4), (0, 10), (2, 7), (9, 13), (0, 13), (2, 10), (7, 9), (6, 7), (6, 13), (7, 12), (6, 10), (4, 7), (3, 5), (4, 10), (3, 8), (4, 13), (5, 8), (5, 14), (0, 3), (0, 9), (8, 10), (9, 12), (10, 13), (0, 12), (2, 3), (1, 7), (2, 9), (2, 6), (2, 12), (8, 13), (11, 12), (7, 11), (6, 9), (7, 8)}\n",
      "False negatives: 0\n",
      "Potential false positives: 39\n"
     ]
    }
   ],
   "source": [
    "def trueSimScores(doc_shingles):\n",
    "    pair_labels = []\n",
    "    pair_sims = []\n",
    "    idxs = range(len(doc_shingles))\n",
    "    for x1, x2 in itertools.combinations(zip(idxs,doc_shingles), 2):\n",
    "        pair_labels.append((x1[0], x2[0]))\n",
    "        pair_sims.append(jaccardSim(x1[1], x2[1]))\n",
    "    return dict(zip(pair_labels, pair_sims))\n",
    "    \n",
    "def sigSimScores(sig_mat):\n",
    "#     cols = [sig_mat[:,i] for i in range(sig_mat.shape[1])]\n",
    "    cols = sig_mat.T\n",
    "    idxs = range(sig_mat.shape[1])\n",
    "    \n",
    "    pair_labels = []\n",
    "    pair_sims = []\n",
    "    for (i,col1), (j,col2) in itertools.combinations(zip(idxs, cols),2):\n",
    "        pair_labels.append((i,j))\n",
    "        pair_sims.append(np.mean(col1==col2))\n",
    "    \n",
    "    return dict(zip(pair_labels, pair_sims))\n",
    "\n",
    "def printScoreComparison(true_dict, approx_dict):\n",
    "    print(f\"**~~~~~~ Similarity score comparison ~~~~~~**\")\n",
    "    print(\"Pair\\t\\tApprox\\t\\tTrue\\t\\t%Error\")\n",
    "    for pair, true_value in true_dict.items():\n",
    "        approx_value = approx_dict[pair]\n",
    "        err = 100*abs(true_value-approx_value)/true_value\n",
    "        print(f\"{pair}\\t\\t{approx_value:.3f}\\t\\t{true_value:.3f}\\t\\t{err:.2f}\")\n",
    "\n",
    "def candidatePairs(score_dict, threshold):\n",
    "    return set(pair for pair, scr in score_dict.items() if scr>=threshold)\n",
    "\n",
    "def accMatrix(true_dict, approx_dict, threshold):\n",
    "    true_pairs = candidatePairs(true_dict, threshold)\n",
    "    approx_pairs = candidatePairs(approx_dict, threshold)\n",
    "    false_negatives = len(true_pairs - approx_pairs)\n",
    "    false_positives = len(approx_pairs - true_pairs)\n",
    "    print(f\"False negatives: {false_negatives}\")\n",
    "    print(f\"Potential false positives: {false_positives}\")\n",
    "\n",
    "sig_mat = hm(doc_shingles, 10)\n",
    "true_score_dict = trueSimScores(doc_shingles)\n",
    "approx_score_dict = sigSimScores(sig_mat)\n",
    "printScoreComparison(true_score_dict, approx_score_dict)\n",
    "\n",
    "print(\"True pairs:\",candidatePairs(true_score_dict, 0.25))\n",
    "print(\"Candidate pairs:\",candidatePairs(approx_score_dict, 0.25))\n",
    "accMatrix(true_score_dict, approx_score_dict, 0.4)\n",
    "\n",
    "# print(f\"**~~~~~~ Approximate similarity scores ~~~~~~**\")\n",
    "# print(\"Pair\\t\\tApproximate Score\\t\\tTrue Score\")\n",
    "# print(\"-\"*14)\n",
    "# for pair, score in sigSimScores(sig_mat):\n",
    "#     print(f\"{pair}\\t{score:.3f}\")\n",
    "    \n",
    "# print(f\"**~~~~~~ True similarity scores ~~~~~~**\")\n",
    "# print(\"Pair\\tScore\")\n",
    "# print(\"-\"*14)\n",
    "# for pa3ir, score in zip(pair_labels, pair_sims):\n",
    "#     print(f\"{pair}\\t{score:.3f}\")"
   ]
  },
  {
   "cell_type": "markdown",
   "metadata": {},
   "source": [
    "## Adding Locality Sensitive Hashing: preliminary band-structure theory, how to choose band size"
   ]
  },
  {
   "cell_type": "markdown",
   "metadata": {},
   "source": [
    "### Effects of changing b,r at fixed n"
   ]
  },
  {
   "cell_type": "markdown",
   "metadata": {},
   "source": [
    "Now implement Locality-sensitive hashing. We use a band structure on the signature matrix. If the matrix has $n$ rows, then we divide it into $b$ bands each of width $r$, such that\n",
    "$$n = b*r$$\n",
    "\n",
    "Let $p$ be the true similarity score (match percent) between a pair. The probability of matching every integer in a band is\n",
    "\n",
    "$$\\text{prob. one band doesn't match } = 1-p^r$$\n",
    "\n",
    "Now the probability that NONE of the $b$ bands match is given by\n",
    "\n",
    "$$\\text{prob. no bands match } = (1-p^r)^b$$\n",
    "\n",
    "Therefore, the probability that at least one band matches, is\n",
    "\n",
    "$$P(\\geq 1\\text{ match}) = 1-(1-p^r)^b$$\n",
    "\n",
    "Now, we want this to be our criteria for a candidate pair. That is, two signatures columns are a candidate pair if $P \\geq 1/2$. We will see in the plot below, that as the signature matrix increases, we can tune $r$ and $b$ to approximately be a step function around the true value of $p$. The goal is to find as few candidate pairs as possible, while also making sure we find them all.\n",
    "\n",
    "Draw a vertical line at the true p value\n",
    "The area UNDER the curve $P(x<p)$ represents the rate of potential false positives\n",
    "\n",
    "the area ABOVE the curce $P(x\\geq p)$ represents the rate of false negatives\n",
    "\n",
    "For various values of $r$, $b$, we plot the result below\n"
   ]
  },
  {
   "cell_type": "code",
   "execution_count": 10,
   "metadata": {},
   "outputs": [
    {
     "data": {
      "image/png": "[encoded data removed]",
      "text/plain": [
       "<Figure size 640x480 with 1 Axes>"
      ]
     },
     "metadata": {},
     "output_type": "display_data"
    }
   ],
   "source": [
    "import matplotlib.pyplot as plt\n",
    "n = 200\n",
    "ops = [(2,100),(4,50),(10,20),(20,10),(50,4),(100,2)]\n",
    "yval = lambda p,r,b: 1-(1-p**r)**b\n",
    "pts = np.linspace(0,1,100)\n",
    "yval(pts,.2,.2)\n",
    "for op in ops:\n",
    "    plt.plot(pts, yval(pts,op[0],op[1]), label=op)\n",
    "plt.plot(pts,0*pts+0.5,'k--', label=\"P=1/2\")\n",
    "plt.plot([0.4,0.4],[0,1], 'k-.')\n",
    "plt.legend()\n",
    "plt.xlabel('p')\n",
    "plt.ylabel('Probability (0 to 1)')\n",
    "plt.title(\"legend: (r,b). p_true=0.4 (vertical line)\")\n",
    "plt.show()"
   ]
  },
  {
   "cell_type": "markdown",
   "metadata": {},
   "source": [
    "### Effects of changing n while adjusting b,r to keep P=1/2 argument constant"
   ]
  },
  {
   "cell_type": "markdown",
   "metadata": {},
   "source": [
    "Now let's solve for the optimal values r,b. \n",
    "\n",
    "We suppose that we *fix* $n,r,b$. Given these, we determine at which approximate point $p$ is the crossover. We should find $p=p(b,r)$. Afterwards, we can then approximately solve for $r,b$ to be a desired $p$\n",
    "\n",
    "We begin with for $P=1/2$.\n",
    "$$1/2 = 1-(1-p^r)^b$$\n",
    "$$ 1-p^r = 2^{-1/b}$$\n",
    "$$p = (1-2^{-1/b})^{1/r} = (1-e^{-(1/b)\\ln2})^{1/r} \\approx (1/b)^{1/r}*\\text{const}$$\n",
    "\n",
    "Finally, if we fix $r$ and $p$, we can find the required bands to be about\n",
    "$$ b \\approx 1/p^r\n",
    "\n",
    "Takeaways:\n",
    "\n",
    "increasing r -> \n",
    "* moves the curve right.\n",
    "* more the false negatives\n",
    "* means lower chance to match\n",
    "                \n",
    "increasing b -> \n",
    "* moves the curve left.\n",
    "* more false positives\n",
    "* means higher chance to match\n",
    "                \n",
    "increasing n -> \n",
    "* the curve approaches a step function.\n",
    "* fewer false anythings\n",
    "* always good!\n",
    "\n",
    "Now watch what happens as we pick the optimal r,b and then increase n.\n",
    "\n",
    "We will try to keep p centered around $p=0.5$"
   ]
  },
  {
   "cell_type": "code",
   "execution_count": 11,
   "metadata": {},
   "outputs": [
    {
     "data": {
      "image/png": "[encoded data removed]",
      "text/plain": [
       "<Figure size 640x480 with 1 Axes>"
      ]
     },
     "metadata": {},
     "output_type": "display_data"
    }
   ],
   "source": [
    "x = np.linspace(0,1,100)\n",
    "\n",
    "b,r = 5, 3\n",
    "y = 1-(1-x**r)**b\n",
    "plt.plot(x,y,'r-',label=f\"b={b},r={r}, n={b*r}\")\n",
    "\n",
    "b,r = 40, 6\n",
    "y = 1-(1-x**r)**b\n",
    "plt.plot(x,y,'b-',label=f\"b={b}, r={r}, n={b*r}\")\n",
    "\n",
    "b,r = 150, 8\n",
    "y = 1-(1-x**r)**b\n",
    "plt.plot(x,y,'g-',label=f\"b={b}, r={r}, n={b*r}\")\n",
    "\n",
    "b,r = 700, 10\n",
    "y = 1-(1-x**r)**b\n",
    "plt.plot(x,y,'g-',label=f\"b={b}, r={r}, n={b*r}\")\n",
    "\n",
    "\n",
    "plt.plot(x,0*x+0.5,'k--')\n",
    "plt.plot([0.5,0.5],[0,1],'k--')\n",
    "plt.legend()\n",
    "plt.show()"
   ]
  },
  {
   "cell_type": "markdown",
   "metadata": {},
   "source": [
    "Now, we use all of the above to try to optimize our Localitly Sensitive Hash function from before.\n",
    "\n",
    "Let's say we want a threshold of $p=0.3$. We can calculate $b\\approx p^{-r}$ for the number of bands. \n",
    "\n",
    "For the first 6 values of band size we determine we should keep\n",
    "\n",
    "$r=1 \\to b=3,\\,n=3$\n",
    "\n",
    "$r=2 \\to b=11,\\,n=22$\n",
    "\n",
    "$r=3 \\to b=37,\\,n=111$\n",
    "\n",
    "$r=4 \\to b=123,\\,n=492$\n",
    "\n",
    "$r=5 \\to b=412,\\,n=2060$\n",
    "\n",
    "Let's try the intermediate choice, and use round numbers $n=120$, $b=40$, $r=3$\n",
    "\n",
    "Let's see how good our results are using the previous defined functions. We first need to construct the banded similarity measure to be used on the signature matrix. Put this into a function"
   ]
  },
  {
   "cell_type": "markdown",
   "metadata": {},
   "source": [
    "### Brute force banded candidate pair function, for checking hash method later"
   ]
  },
  {
   "cell_type": "code",
   "execution_count": 12,
   "metadata": {},
   "outputs": [
    {
     "name": "stdout",
     "output_type": "stream",
     "text": [
      "True pairs: {(6, 12), (4, 9), (3, 7), (4, 6), (4, 12), (12, 13), (5, 7), (5, 13), (0, 2), (5, 10), (8, 9), (0, 5), (8, 12), (0, 8), (2, 5), (10, 12), (2, 8), (7, 10), (6, 8), (7, 13), (4, 5), (5, 6), (4, 8), (5, 9), (5, 12), (9, 10), (0, 7), (0, 4), (0, 10), (2, 7), (9, 13), (0, 13), (2, 10), (2, 13), (7, 9), (6, 7), (6, 13), (7, 12), (6, 10), (3, 5), (4, 10), (4, 13), (5, 8), (9, 12), (8, 10), (10, 13), (0, 6), (0, 12), (2, 9), (8, 13), (11, 12), (2, 6), (2, 12), (6, 9), (7, 8)}\n",
      "LSH pairs: {(6, 12), (4, 9), (3, 7), (12, 13), (0, 2), (5, 10), (0, 5), (8, 12), (9, 11), (0, 8), (2, 5), (10, 12), (2, 8), (2, 14), (7, 10), (6, 8), (6, 14), (7, 13), (4, 5), (4, 8), (3, 12), (5, 12), (0, 7), (2, 4), (8, 14), (0, 4), (0, 10), (2, 7), (1, 5), (9, 13), (0, 13), (10, 11), (11, 13), (2, 13), (7, 9), (6, 7), (4, 7), (3, 5), (12, 14), (4, 10), (3, 8), (5, 11), (4, 13), (5, 8), (8, 10), (10, 13), (0, 6), (2, 3), (2, 9), (8, 13), (11, 12), (2, 6), (2, 12), (7, 11), (7, 8)}\n",
      "False negatives: 0\n",
      "Potential false positives: 50\n",
      "None\n",
      "**~~~~~~ Similarity score comparison ~~~~~~**\n",
      "Pair\t\tApprox\t\tTrue\t\t%Error\n",
      "(0, 1)\t\t0.250\t\t0.185\t\t35.10\n",
      "(0, 2)\t\t0.492\t\t0.333\t\t47.50\n",
      "(0, 3)\t\t0.308\t\t0.255\t\t21.13\n",
      "(0, 4)\t\t0.550\t\t0.326\t\t68.65\n",
      "(0, 5)\t\t0.467\t\t0.330\t\t41.47\n",
      "(0, 6)\t\t0.525\t\t0.346\t\t51.86\n",
      "(0, 7)\t\t0.467\t\t0.337\t\t38.33\n",
      "(0, 8)\t\t0.492\t\t0.318\t\t54.43\n",
      "(0, 9)\t\t0.317\t\t0.281\t\t12.82\n",
      "(0, 10)\t\t0.458\t\t0.325\t\t41.21\n",
      "(0, 11)\t\t0.292\t\t0.190\t\t53.88\n",
      "(0, 12)\t\t0.425\t\t0.308\t\t38.15\n",
      "(0, 13)\t\t0.417\t\t0.309\t\t34.71\n",
      "(0, 14)\t\t0.300\t\t0.216\t\t38.93\n",
      "(1, 2)\t\t0.300\t\t0.221\t\t35.82\n",
      "(1, 3)\t\t0.292\t\t0.239\t\t21.87\n",
      "(1, 4)\t\t0.250\t\t0.163\t\t52.92\n",
      "(1, 5)\t\t0.358\t\t0.232\t\t54.30\n",
      "(1, 6)\t\t0.350\t\t0.212\t\t64.77\n",
      "(1, 7)\t\t0.308\t\t0.236\t\t30.39\n",
      "(1, 8)\t\t0.267\t\t0.201\t\t32.96\n",
      "(1, 9)\t\t0.317\t\t0.226\t\t39.91\n",
      "(1, 10)\t\t0.258\t\t0.201\t\t28.83\n",
      "(1, 11)\t\t0.308\t\t0.251\t\t23.02\n",
      "(1, 12)\t\t0.308\t\t0.222\t\t39.00\n",
      "(1, 13)\t\t0.283\t\t0.217\t\t30.52\n",
      "(1, 14)\t\t0.283\t\t0.230\t\t23.31\n",
      "(2, 3)\t\t0.367\t\t0.275\t\t33.18\n",
      "(2, 4)\t\t0.492\t\t0.294\t\t67.30\n",
      "(2, 5)\t\t0.583\t\t0.368\t\t58.48\n",
      "(2, 6)\t\t0.450\t\t0.330\t\t36.18\n",
      "(2, 7)\t\t0.517\t\t0.339\t\t52.25\n",
      "(2, 8)\t\t0.525\t\t0.314\t\t66.99\n",
      "(2, 9)\t\t0.408\t\t0.305\t\t33.95\n",
      "(2, 10)\t\t0.458\t\t0.318\t\t44.07\n",
      "(2, 11)\t\t0.367\t\t0.230\t\t59.18\n",
      "(2, 12)\t\t0.500\t\t0.317\t\t57.68\n",
      "(2, 13)\t\t0.492\t\t0.323\t\t52.42\n",
      "(2, 14)\t\t0.367\t\t0.254\t\t44.64\n",
      "(3, 4)\t\t0.300\t\t0.230\t\t30.17\n",
      "(3, 5)\t\t0.350\t\t0.302\t\t16.06\n",
      "(3, 6)\t\t0.350\t\t0.271\t\t29.17\n",
      "(3, 7)\t\t0.417\t\t0.301\t\t38.29\n",
      "(3, 8)\t\t0.350\t\t0.263\t\t33.07\n",
      "(3, 9)\t\t0.283\t\t0.292\t\t2.93\n",
      "(3, 10)\t\t0.283\t\t0.265\t\t6.92\n",
      "(3, 11)\t\t0.325\t\t0.259\t\t25.54\n",
      "(3, 12)\t\t0.325\t\t0.279\t\t16.32\n",
      "(3, 13)\t\t0.325\t\t0.291\t\t11.64\n",
      "(3, 14)\t\t0.250\t\t0.246\t\t1.72\n",
      "(4, 5)\t\t0.508\t\t0.310\t\t64.07\n",
      "(4, 6)\t\t0.508\t\t0.348\t\t46.28\n",
      "(4, 7)\t\t0.400\t\t0.292\t\t37.09\n",
      "(4, 8)\t\t0.450\t\t0.331\t\t35.77\n",
      "(4, 9)\t\t0.425\t\t0.322\t\t32.07\n",
      "(4, 10)\t\t0.575\t\t0.366\t\t57.05\n",
      "(4, 11)\t\t0.333\t\t0.217\t\t53.28\n",
      "(4, 12)\t\t0.467\t\t0.331\t\t40.81\n",
      "(4, 13)\t\t0.467\t\t0.349\t\t33.75\n",
      "(4, 14)\t\t0.258\t\t0.200\t\t29.43\n",
      "(5, 6)\t\t0.442\t\t0.352\t\t25.47\n",
      "(5, 7)\t\t0.475\t\t0.349\t\t36.24\n",
      "(5, 8)\t\t0.467\t\t0.322\t\t45.05\n",
      "(5, 9)\t\t0.375\t\t0.326\t\t15.13\n",
      "(5, 10)\t\t0.483\t\t0.334\t\t44.67\n",
      "(5, 11)\t\t0.417\t\t0.248\t\t68.20\n",
      "(5, 12)\t\t0.492\t\t0.338\t\t45.49\n",
      "(5, 13)\t\t0.483\t\t0.346\t\t39.76\n",
      "(5, 14)\t\t0.308\t\t0.269\t\t14.76\n",
      "(6, 7)\t\t0.408\t\t0.327\t\t24.87\n",
      "(6, 8)\t\t0.417\t\t0.341\t\t22.09\n",
      "(6, 9)\t\t0.400\t\t0.336\t\t18.90\n",
      "(6, 10)\t\t0.400\t\t0.364\t\t9.76\n",
      "(6, 11)\t\t0.367\t\t0.244\t\t50.56\n",
      "(6, 12)\t\t0.458\t\t0.368\t\t24.58\n",
      "(6, 13)\t\t0.392\t\t0.358\t\t9.36\n",
      "(6, 14)\t\t0.317\t\t0.243\t\t30.18\n",
      "(7, 8)\t\t0.492\t\t0.339\t\t45.02\n",
      "(7, 9)\t\t0.350\t\t0.320\t\t9.34\n",
      "(7, 10)\t\t0.367\t\t0.310\t\t18.12\n",
      "(7, 11)\t\t0.358\t\t0.239\t\t50.20\n",
      "(7, 12)\t\t0.442\t\t0.314\t\t40.77\n",
      "(7, 13)\t\t0.475\t\t0.339\t\t40.03\n",
      "(7, 14)\t\t0.350\t\t0.246\t\t42.27\n",
      "(8, 9)\t\t0.392\t\t0.340\t\t15.13\n",
      "(8, 10)\t\t0.483\t\t0.353\t\t37.01\n",
      "(8, 11)\t\t0.350\t\t0.241\t\t45.02\n",
      "(8, 12)\t\t0.467\t\t0.348\t\t34.16\n",
      "(8, 13)\t\t0.483\t\t0.361\t\t34.05\n",
      "(8, 14)\t\t0.325\t\t0.220\t\t47.41\n",
      "(9, 10)\t\t0.450\t\t0.353\t\t27.32\n",
      "(9, 11)\t\t0.383\t\t0.282\t\t35.83\n",
      "(9, 12)\t\t0.408\t\t0.349\t\t17.03\n",
      "(9, 13)\t\t0.500\t\t0.408\t\t22.65\n",
      "(9, 14)\t\t0.267\t\t0.237\t\t12.33\n",
      "(10, 11)\t\t0.333\t\t0.262\t\t27.46\n",
      "(10, 12)\t\t0.492\t\t0.367\t\t33.94\n",
      "(10, 13)\t\t0.475\t\t0.357\t\t32.92\n",
      "(10, 14)\t\t0.292\t\t0.234\t\t24.64\n",
      "(11, 12)\t\t0.550\t\t0.446\t\t23.40\n",
      "(11, 13)\t\t0.350\t\t0.262\t\t33.72\n",
      "(11, 14)\t\t0.275\t\t0.249\t\t10.47\n",
      "(12, 13)\t\t0.492\t\t0.362\t\t35.82\n",
      "(12, 14)\t\t0.383\t\t0.255\t\t50.60\n",
      "(13, 14)\t\t0.267\t\t0.243\t\t9.85\n"
     ]
    }
   ],
   "source": [
    "def bandedCandidatePair(col1, col2, b, r):\n",
    "    \"\"\"Returns a boolean if the two columns are a candidate pair\n",
    "    inputs must obey n=len(col1)=len(col2)=b*r\"\"\"\n",
    "    n = len(col1)\n",
    "    assert(n==b*r)\n",
    "    assert(n==len(col2))\n",
    "    truth_array = (col1==col2)\n",
    "    return any(all(band) for band in np.array_split(truth_array,b))\n",
    "\n",
    "def bandedCandidatePairs(sig_mat, b, r):\n",
    "    d = sig_mat.shape[1]\n",
    "    idxs = range(d)\n",
    "    cols = [sig_mat[:,i] for i in range(d)]\n",
    "    pairs = set()\n",
    "    for (i,col1), (j,col2) in itertools.combinations(zip(idxs,cols),2):\n",
    "        if bandedCandidatePair(col1,col2,b,r):\n",
    "            pairs.add((i,j))\n",
    "    return pairs\n",
    "\n",
    "# set p = 0.3 arbitrarily\n",
    "p = 0.3\n",
    "n = 120\n",
    "b = 30\n",
    "r = 4\n",
    "\n",
    "# see how many candidate pairs we got right!\n",
    "sig_mat = hm(doc_shingles, n)\n",
    "true_score_dict = trueSimScores(doc_shingles)\n",
    "approx_score_dict = sigSimScores(sig_mat)\n",
    "print(\"True pairs:\",candidatePairs(true_score_dict, p))\n",
    "print(\"LSH pairs:\",bandedCandidatePairs(sig_mat, b, r))\n",
    "print(accMatrix(true_score_dict, approx_score_dict, 0.4))\n",
    "\n",
    "# sig_mat = hm(doc_shingles, n)\n",
    "# true_score_dict = trueSimScores(doc_shingles)\n",
    "printScoreComparison(true_score_dict, approx_score_dict)"
   ]
  },
  {
   "cell_type": "markdown",
   "metadata": {},
   "source": [
    "### Finally, we perform the fast candidate pair search, using a hash table of band and column id's"
   ]
  },
  {
   "cell_type": "markdown",
   "metadata": {},
   "source": [
    "Lastly, we will improve upon the whole efficiency by performing the comparisons of banded pairs in $\\mathcal{O}(n)$ time as opposed to $\\mathcal{O}(n^2)$\n",
    "\n",
    "For each band of a column, we place a copy of the column index into a hash table, with key the row values.\n",
    "\n",
    "For example, let col=[4,2,5,6]. This might band to say [(4,2),(5,6)], and we ould enter into a dictionary d={(4,2):[col,...], (5,6):[col,...], ...}"
   ]
  },
  {
   "cell_type": "code",
   "execution_count": 13,
   "metadata": {},
   "outputs": [
    {
     "name": "stdout",
     "output_type": "stream",
     "text": [
      "True pairs:\t {(6, 12), (4, 9), (3, 7), (4, 6), (4, 12), (12, 13), (5, 7), (5, 13), (0, 2), (5, 10), (8, 9), (0, 5), (8, 12), (0, 8), (2, 5), (10, 12), (2, 8), (7, 10), (6, 8), (7, 13), (4, 5), (5, 6), (4, 8), (5, 9), (5, 12), (9, 10), (0, 7), (0, 4), (0, 10), (2, 7), (9, 13), (0, 13), (2, 10), (2, 13), (7, 9), (6, 7), (6, 13), (7, 12), (6, 10), (3, 5), (4, 10), (4, 13), (5, 8), (9, 12), (8, 10), (10, 13), (0, 6), (0, 12), (2, 9), (8, 13), (11, 12), (2, 6), (2, 12), (6, 9), (7, 8)}\n",
      "True LSH pairs:\t {(4, 9), (4, 6), (3, 10), (5, 7), (5, 13), (0, 2), (5, 10), (8, 9), (0, 5), (0, 8), (11, 14), (1, 12), (7, 10), (6, 8), (7, 13), (5, 6), (4, 8), (3, 12), (5, 9), (5, 12), (0, 7), (2, 4), (10, 11), (0, 4), (0, 10), (9, 13), (1, 5), (1, 11), (0, 13), (2, 13), (7, 9), (6, 7), (6, 13), (6, 10), (3, 5), (3, 11), (4, 10), (5, 11), (4, 13), (5, 8), (0, 9), (8, 10), (10, 13), (0, 6), (8, 13), (2, 9), (11, 12), (1, 13), (2, 6), (6, 9), (7, 8)}\n",
      "Fast LSH pairs:\t {(4, 6), (9, 2), (5, 7), (5, 13), (0, 2), (8, 9), (10, 6), (0, 5), (8, 6), (11, 5), (10, 3), (0, 8), (11, 14), (13, 5), (1, 12), (6, 8), (7, 13), (5, 6), (4, 8), (3, 12), (5, 9), (9, 4), (0, 7), (2, 4), (10, 11), (9, 13), (0, 4), (0, 10), (1, 5), (1, 11), (0, 13), (13, 7), (10, 5), (2, 13), (7, 9), (6, 7), (6, 13), (12, 5), (3, 5), (4, 10), (8, 4), (4, 13), (5, 8), (10, 4), (9, 6), (11, 3), (0, 9), (10, 7), (8, 10), (0, 6), (8, 13), (11, 12), (10, 13), (1, 13), (2, 6), (13, 6), (6, 9), (7, 8)}\n",
      "MinHash pairs:\t {(4, 9), (3, 13), (5, 10), (8, 9), (0, 5), (0, 14), (2, 11), (11, 14), (6, 11), (7, 10), (3, 6), (5, 12), (9, 10), (0, 7), (2, 4), (6, 13), (7, 12), (3, 8), (5, 14), (9, 12), (0, 9), (7, 14), (12, 13), (3, 10), (5, 7), (0, 2), (9, 14), (1, 3), (3, 12), (5, 9), (4, 11), (1, 5), (1, 14), (2, 13), (7, 9), (3, 5), (3, 14), (5, 11), (4, 13), (8, 13), (1, 7), (2, 6), (3, 7), (4, 6), (5, 13), (10, 12), (2, 8), (6, 8), (3, 9), (5, 6), (4, 8), (0, 4), (10, 14), (1, 11), (0, 13), (2, 10), (11, 13), (6, 10), (12, 14), (3, 11), (4, 10), (8, 10), (0, 6), (2, 3), (1, 13), (2, 12), (6, 12), (3, 4), (4, 12), (8, 12), (1, 6), (0, 8), (2, 5), (9, 11), (2, 14), (7, 13), (4, 5), (8, 14), (10, 11), (9, 13), (0, 10), (2, 7), (6, 7), (4, 7), (5, 8), (0, 3), (10, 13), (0, 12), (2, 9), (11, 12), (6, 9), (7, 8)}\n"
     ]
    }
   ],
   "source": [
    "def fastCandidatePairs(sig_mat, b, r):\n",
    "    n, d = sig_mat.shape\n",
    "    assert(n==b*r)\n",
    "    hashbuckets = collections.defaultdict(set)\n",
    "    bands = np.array_split(sig_mat, b, axis=0)\n",
    "    for i,band in enumerate(bands):\n",
    "        for j in range(d):\n",
    "            # The last value must be made a string, to prevent accidental\n",
    "            # key collisions of r+1 integers when we really only want\n",
    "            # keys of r integers plus a band index\n",
    "            band_id = tuple(list(band[:,j])+[str(i)])\n",
    "            hashbuckets[band_id].add(j)\n",
    "    candidate_pairs = set()\n",
    "    for bucket in hashbuckets.values():\n",
    "        if len(bucket) > 1:\n",
    "            for pair in itertools.combinations(bucket, 2):\n",
    "                candidate_pairs.add(pair)\n",
    "    return candidate_pairs\n",
    "\n",
    "\n",
    "# to make sure it works, \n",
    "# compare with the brute force method on a few trials\n",
    "\n",
    "# set p = 0.3 arbitrarily\n",
    "p = 0.3\n",
    "n = 120\n",
    "b = 30\n",
    "r = 4\n",
    "\n",
    "# see how many candidate pairs we got right!\n",
    "sig_mat = hm(doc_shingles, n)\n",
    "true_score_dict = trueSimScores(doc_shingles)\n",
    "approx_score_dict = sigSimScores(sig_mat)\n",
    "print('True pairs:\\t', candidatePairs(true_score_dict, p))\n",
    "print(\"True LSH pairs:\\t\", bandedCandidatePairs(sig_mat, b, r))\n",
    "print(\"Fast LSH pairs:\\t\", fastCandidatePairs(sig_mat, b, r))\n",
    "print(\"MinHash pairs:\\t\", candidatePairs(approx_score_dict, p))"
   ]
  },
  {
   "cell_type": "markdown",
   "metadata": {},
   "source": [
    "# Part II: vector similarity"
   ]
  },
  {
   "cell_type": "code",
   "execution_count": 14,
   "metadata": {},
   "outputs": [],
   "source": [
    "def cossim(u,v):\n",
    "    norm = np.linalg.norm(u)*np.linalg.norm(v)\n",
    "    cosine = u@v/norm\n",
    "    ang = np.arccos(cosine)\n",
    "    return 1-ang/np.pi"
   ]
  },
  {
   "cell_type": "markdown",
   "metadata": {},
   "source": [
    "## Generate data\n",
    "\n",
    "We create N random vectors of dimension D. We then reassign 5 of these to be artifically close to another set of 5. This is done by setting them equal and adding a small amount of noise.\n",
    "\n",
    "By artificially making some vectors closer to others, we can easily tune the target similarity threshold, allowing us to experiment better."
   ]
  },
  {
   "cell_type": "code",
   "execution_count": 15,
   "metadata": {},
   "outputs": [],
   "source": [
    "# get some random data points\n",
    "N = 1000\n",
    "D= 50\n",
    "A = np.random.randn(N,D)\n",
    "# artificially make some similar to others\n",
    "A[5] = A[99] +np.random.randn(D)*0.05\n",
    "A[20] = A[85] +np.random.randn(D)*0.15\n",
    "A[13] = A[19] +np.random.randn(D)*0.25\n",
    "A[56] = A[71] +np.random.randn(D)*0.5\n",
    "A[45] = A[49] +np.random.randn(D)*0.66"
   ]
  },
  {
   "cell_type": "markdown",
   "metadata": {},
   "source": [
    "## Brute force calculation baseline\n",
    "\n",
    "This is straightforward. We compute the cosine similarity of every possible pair, and keep only those that are at or above the chosen threshold\n",
    "\n",
    "We know beforehand that the smallest \"artificially most similar\" pair is going to be around ~0.82, so we set the threshold to be 0.8.\n",
    "\n",
    "In practice, setting the threshold is an art, and depends on how similar we want things to really be."
   ]
  },
  {
   "cell_type": "code",
   "execution_count": 16,
   "metadata": {},
   "outputs": [
    {
     "name": "stdout",
     "output_type": "stream",
     "text": [
      "Brute force calculation time: 10.536\n",
      "Discovered pairs:\n",
      "Pair: (5, 99),\tSimilarity: 0.98.\n",
      "Pair: (13, 19),\tSimilarity: 0.91.\n",
      "Pair: (20, 85),\tSimilarity: 0.95.\n",
      "Pair: (56, 71),\tSimilarity: 0.83.\n"
     ]
    }
   ],
   "source": [
    "true_pairs_dict = {}\n",
    "\n",
    "thresh = 0.8\n",
    "\n",
    "start = time.time()\n",
    "for (i,u),(j,v) in itertools.combinations([(i,x) for i,x in enumerate(A)],2):\n",
    "    val = cossim(u,v)\n",
    "    if val > thresh:\n",
    "        true_pairs_dict[(i,j)] = val\n",
    "t_brute = time.time()-start\n",
    "\n",
    "# save just the keys without the values. Easier to compare later to LSH\n",
    "true_pairs = set(true_pairs_dict.keys())\n",
    "\n",
    "print(f\"Brute force calculation time: {t_brute:.3f}\")\n",
    "print(f\"Discovered pairs:\")\n",
    "for k, v in true_pairs_dict.items():\n",
    "    print(f\"Pair: {k},\\tSimilarity: {v:.2f}.\")"
   ]
  },
  {
   "cell_type": "markdown",
   "metadata": {},
   "source": [
    "## Locality Sensitive Hashing approach"
   ]
  },
  {
   "cell_type": "markdown",
   "metadata": {},
   "source": [
    "### Find r, b parameters given threshold\n",
    "\n",
    "We must have that D%b==0, that is the number of bands divides the dimension. That's our only constraint. Remember, higher n is always better!\n",
    "\n",
    "There's no magic here, we just trial and error some combinations until we get near the desired threshold, in this case 0.75 (chosen in the previous cell)"
   ]
  },
  {
   "cell_type": "code",
   "execution_count": 17,
   "metadata": {},
   "outputs": [
    {
     "name": "stdout",
     "output_type": "stream",
     "text": [
      "Transition probability: 0.80\n"
     ]
    }
   ],
   "source": [
    "b, r = 50, 18\n",
    "\n",
    "n = b*r\n",
    "print(f\"Transition probability: {(1/b)**(1/r):.2f}\")"
   ]
  },
  {
   "cell_type": "markdown",
   "metadata": {},
   "source": [
    "### Compute LSH pairs\n",
    "\n",
    "Let $S$ be the signature matrix and $R$ be the matrix of random hyperplanes.\n",
    "\n",
    "In the code implementation, we work with the transpose of our equations. This means that $S = (N,D)$, and so we have to split into bands across axis=1"
   ]
  },
  {
   "cell_type": "code",
   "execution_count": 18,
   "metadata": {},
   "outputs": [
    {
     "name": "stdout",
     "output_type": "stream",
     "text": [
      "LSH calculation time: 0.388\n"
     ]
    }
   ],
   "source": [
    "start = time.time()\n",
    "\n",
    "# Compute signature matrix\n",
    "R = A@np.random.randn(D,n)\n",
    "S = np.where(R>0,1,0)\n",
    "\n",
    "# Break into bands\n",
    "S = np.split(S, b, axis=1)\n",
    "\n",
    "# column vector to convert binary vector to integer e.g. (1,0,1)->5\n",
    "binary_column = 2**np.arange(r).reshape(-1,1)\n",
    "\n",
    "# convert each band into a single integer, \n",
    "# i.e. convert band matrices to band columns\n",
    "S = np.hstack([M@binary_column for M in S])\n",
    "\n",
    "# Every value in the matrix represents a hash bucket assignment\n",
    "# For every bucket in row i, add index i to that bucket\n",
    "d = collections.defaultdict(set)\n",
    "with np.nditer(S,flags=['multi_index']) as it:\n",
    "    for x in it:\n",
    "        d[int(x)].add(it.multi_index[0])\n",
    "        \n",
    "# For every bucket, find all pairs. These are the LSH pairs.\n",
    "candidate_pairs = set()\n",
    "for k,v in d.items():\n",
    "    if len(v) > 1:\n",
    "        for pair in itertools.combinations(v,2):\n",
    "            candidate_pairs.add(tuple(sorted(pair)))\n",
    "\n",
    "# Finally, perform the actually similarity computation\n",
    "# to weed out false positive\n",
    "lsh_pairs = set()\n",
    "for (i,j) in candidate_pairs:\n",
    "    if cossim(A[i],A[j]) > thresh:\n",
    "        lsh_pairs.add((i,j))\n",
    "        \n",
    "t_lsh = time.time()-start\n",
    "\n",
    "print(f\"LSH calculation time: {t_lsh:.3f}\")"
   ]
  },
  {
   "cell_type": "markdown",
   "metadata": {},
   "source": [
    "## Compare the two methods\n",
    "\n",
    "The above should show that we get a factor of about 25x speedup, while simultaneously finding all pairs, with no false negatives!\n",
    "\n",
    "Very useful!"
   ]
  },
  {
   "cell_type": "code",
   "execution_count": 19,
   "metadata": {},
   "outputs": [
    {
     "name": "stdout",
     "output_type": "stream",
     "text": [
      "t_brute: 10.536\t t_lsh: 0.388. Speed-up: 27x\n",
      "True pairs:  {(13, 19), (5, 99), (20, 85), (56, 71)}\n",
      "LSH pairs:  {(13, 19), (5, 99), (20, 85)}\n",
      "Candidate pairs: 4807.\n",
      "False negatives: 1\n"
     ]
    }
   ],
   "source": [
    "print(f\"t_brute: {t_brute:.3f}\\t t_lsh: {t_lsh:.3f}. Speed-up: {t_brute/t_lsh:.0f}x\")\n",
    "print(\"True pairs: \", true_pairs)\n",
    "print(\"LSH pairs: \", lsh_pairs)\n",
    "print(f\"Candidate pairs: {len(candidate_pairs)}.\\n\\\n",
    "False negatives: {len(true_pairs-lsh_pairs)}\")"
   ]
  },
  {
   "cell_type": "code",
   "execution_count": null,
   "metadata": {},
   "outputs": [],
   "source": []
  }
 ],
 "metadata": {
  "kernelspec": {
   "display_name": "Python 3 (ipykernel)",
   "language": "python",
   "name": "python3"
  },
  "language_info": {
   "codemirror_mode": {
    "name": "ipython",
    "version": 3
   },
   "file_extension": ".py",
   "mimetype": "text/x-python",
   "name": "python",
   "nbconvert_exporter": "python",
   "pygments_lexer": "ipython3",
   "version": "3.10.7"
  }
 },
 "nbformat": 4,
 "nbformat_minor": 4
}
